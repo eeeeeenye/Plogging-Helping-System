{
  "nbformat": 4,
  "nbformat_minor": 0,
  "metadata": {
    "colab": {
      "provenance": []
    },
    "kernelspec": {
      "name": "python3",
      "display_name": "Python 3"
    },
    "language_info": {
      "name": "python"
    }
  },
  "cells": [
    {
      "cell_type": "code",
      "execution_count": null,
      "metadata": {
        "id": "QqN5rrROjo-L"
      },
      "outputs": [],
      "source": [
        "from keras.utils.image_utils import load_img,img_to_array,load_img\n",
        "from tensorflow.keras.preprocessing.image import ImageDataGenerator\n",
        "\n",
        "#이미지 불리기\n",
        "for i in range(1,200):\n",
        "  fname='/content/drive/MyDrive/2023finalproject/img3/hand/손있는봉투{}.jpg'.format(i)\n",
        "  file_name_freq=1\n",
        "  data_aug_gen =ImageDataGenerator(rescale=1./255,\n",
        "                                  rotation_range=15,\n",
        "                                  width_shift_range=0.1,\n",
        "                                  shear_range=0.5,\n",
        "                                  zoom_range=[0.8,2.0],\n",
        "                                  horizontal_flip=True,\n",
        "                                  vertical_flip=True,\n",
        "                                  fill_mode='nearest')\n",
        "  img=load_img(fname)\n",
        "  x=img_to_array(img)\n",
        "  x=x.reshape((1,)+x.shape)\n",
        "  i=0\n",
        "  file_name_freq+=1\n",
        "  save_to_dir=\"/content/drive/MyDrive/2023finalproject/img3/hand/\"\n",
        "  for batch in data_aug_gen.flow(x, batch_size=1, save_to_dir=save_to_dir, save_prefix='puls_'+str(file_name_freq), save_format='jpg'):\n",
        "      i+=1\n",
        "      if i>5:\n",
        "        break\n"
      ]
    }
  ]
}